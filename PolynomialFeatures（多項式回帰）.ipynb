{
 "cells": [
  {
   "cell_type": "code",
   "execution_count": 34,
   "metadata": {},
   "outputs": [
    {
     "data": {
      "image/png": "[encoded data removed]",
      "text/plain": [
       "<matplotlib.figure.Figure at 0x7f08cf75c6d8>"
      ]
     },
     "metadata": {},
     "output_type": "display_data"
    }
   ],
   "source": [
    "import numpy as np\n",
    "from matplotlib import pyplot as plt\n",
    "from matplotlib import style\n",
    "\n",
    "x,y = np.loadtxt('asagao.csv', unpack= True, delimiter=',', skiprows=1)\n",
    "\n",
    "plt.plot(x, y, 'go')\n",
    "plt.plot(x,y)\n",
    "\n",
    "plt.title('How long Growth( ASAGAO ) ?')\n",
    "plt.ylabel('Length (cm)')\n",
    "plt.xlabel('Passed Days')\n",
    "\n",
    "plt.show()"
   ]
  },
  {
   "cell_type": "code",
   "execution_count": 35,
   "metadata": {},
   "outputs": [
    {
     "name": "stdout",
     "output_type": "stream",
     "text": [
      "<class 'numpy.ndarray'>\n",
      "[[  1]\n",
      " [  5]\n",
      " [ 14]\n",
      " [ 22]\n",
      " [ 44]\n",
      " [ 72]\n",
      " [ 77]\n",
      " [ 85]\n",
      " [ 97]\n",
      " [101]\n",
      " [106]\n",
      " [113]\n",
      " [116]\n",
      " [119]\n",
      " [123]\n",
      " [133]\n",
      " [143]\n",
      " [149]\n",
      " [150]]\n",
      "[  0   1   2   5  29 175 200 290 400 470 500 545 560 590 609 635 647 647\n",
      " 646]\n"
     ]
    }
   ],
   "source": [
    "import pandas as pd\n",
    "\n",
    "dataset = pd.read_csv('asagao.csv')\n",
    "x = dataset.iloc[:, 0:1].values\n",
    "y = dataset.iloc[:, 1].values\n",
    "\n",
    "print(type(x))\n",
    "print(x)\n",
    "print(y)"
   ]
  },
  {
   "cell_type": "code",
   "execution_count": 36,
   "metadata": {
    "scrolled": true
   },
   "outputs": [
    {
     "name": "stdout",
     "output_type": "stream",
     "text": [
      "[[ 77]\n",
      " [ 44]\n",
      " [ 14]\n",
      " [ 72]\n",
      " [119]\n",
      " [101]\n",
      " [ 85]\n",
      " [149]\n",
      " [113]\n",
      " [ 22]\n",
      " [  1]\n",
      " [133]\n",
      " [116]]\n",
      "[[106]\n",
      " [  5]\n",
      " [ 97]\n",
      " [150]\n",
      " [123]\n",
      " [143]]\n"
     ]
    }
   ],
   "source": [
    "from sklearn.model_selection import train_test_split\n",
    "x_train, x_test, y_train, y_test = train_test_split(x, y, test_size = 0.3, random_state = 0)\n",
    "\n",
    "print(x_train)\n",
    "print(x_test)\n"
   ]
  },
  {
   "cell_type": "code",
   "execution_count": 37,
   "metadata": {},
   "outputs": [
    {
     "name": "stdout",
     "output_type": "stream",
     "text": [
      "[[  1]\n",
      " [ 14]\n",
      " [ 22]\n",
      " [ 44]\n",
      " [ 72]\n",
      " [ 77]\n",
      " [ 85]\n",
      " [101]\n",
      " [113]\n",
      " [116]\n",
      " [119]\n",
      " [133]\n",
      " [149]]\n",
      "[[  5]\n",
      " [ 97]\n",
      " [106]\n",
      " [123]\n",
      " [143]\n",
      " [150]]\n"
     ]
    }
   ],
   "source": [
    "x_train=np.sort(x_train, axis=0)\n",
    "y_train.sort()\n",
    "x_test=np.sort(x_test, axis=0)\n",
    "y_test.sort()\n",
    "print(x_train)\n",
    "print(x_test)"
   ]
  },
  {
   "cell_type": "code",
   "execution_count": 38,
   "metadata": {
    "scrolled": false
   },
   "outputs": [
    {
     "name": "stdout",
     "output_type": "stream",
     "text": [
      "PolynomialFeatures(degree=6, include_bias=True, interaction_only=False,\n",
      "                   order='C')\n",
      "<class 'numpy.ndarray'>\n",
      "[[1.00000000e+00 1.00000000e+00 1.00000000e+00 1.00000000e+00\n",
      "  1.00000000e+00 1.00000000e+00 1.00000000e+00]\n",
      " [1.00000000e+00 1.40000000e+01 1.96000000e+02 2.74400000e+03\n",
      "  3.84160000e+04 5.37824000e+05 7.52953600e+06]\n",
      " [1.00000000e+00 2.20000000e+01 4.84000000e+02 1.06480000e+04\n",
      "  2.34256000e+05 5.15363200e+06 1.13379904e+08]\n",
      " [1.00000000e+00 4.40000000e+01 1.93600000e+03 8.51840000e+04\n",
      "  3.74809600e+06 1.64916224e+08 7.25631386e+09]\n",
      " [1.00000000e+00 7.20000000e+01 5.18400000e+03 3.73248000e+05\n",
      "  2.68738560e+07 1.93491763e+09 1.39314070e+11]\n",
      " [1.00000000e+00 7.70000000e+01 5.92900000e+03 4.56533000e+05\n",
      "  3.51530410e+07 2.70678416e+09 2.08422380e+11]\n",
      " [1.00000000e+00 8.50000000e+01 7.22500000e+03 6.14125000e+05\n",
      "  5.22006250e+07 4.43705312e+09 3.77149516e+11]\n",
      " [1.00000000e+00 1.01000000e+02 1.02010000e+04 1.03030100e+06\n",
      "  1.04060401e+08 1.05101005e+10 1.06152015e+12]\n",
      " [1.00000000e+00 1.13000000e+02 1.27690000e+04 1.44289700e+06\n",
      "  1.63047361e+08 1.84243518e+10 2.08195175e+12]\n",
      " [1.00000000e+00 1.16000000e+02 1.34560000e+04 1.56089600e+06\n",
      "  1.81063936e+08 2.10034166e+10 2.43639632e+12]\n",
      " [1.00000000e+00 1.19000000e+02 1.41610000e+04 1.68515900e+06\n",
      "  2.00533921e+08 2.38635366e+10 2.83976086e+12]\n",
      " [1.00000000e+00 1.33000000e+02 1.76890000e+04 2.35263700e+06\n",
      "  3.12900721e+08 4.16157959e+10 5.53490085e+12]\n",
      " [1.00000000e+00 1.49000000e+02 2.22010000e+04 3.30794900e+06\n",
      "  4.92884401e+08 7.34397757e+10 1.09425266e+13]]\n"
     ]
    },
    {
     "data": {
      "text/plain": [
       "PolynomialFeatures(degree=6, include_bias=True, interaction_only=False,\n",
       "                   order='C')"
      ]
     },
     "execution_count": 38,
     "metadata": {},
     "output_type": "execute_result"
    }
   ],
   "source": [
    "from sklearn.preprocessing import PolynomialFeatures\n",
    "poly_reg = PolynomialFeatures(degree = 6)\n",
    "\n",
    "print(poly_reg)\n",
    "\n",
    "x_poly = poly_reg.fit_transform(x_train)\n",
    "\n",
    "print(type(x_poly))\n",
    "print(x_poly)\n",
    "\n",
    "poly_reg.fit(x_poly, y_train)"
   ]
  },
  {
   "cell_type": "code",
   "execution_count": 39,
   "metadata": {},
   "outputs": [
    {
     "name": "stdout",
     "output_type": "stream",
     "text": [
      "[[1.0000e+00 5.0000e+01 2.5000e+03 1.2500e+05 6.2500e+06 3.1250e+08\n",
      "  1.5625e+10]]\n"
     ]
    }
   ],
   "source": [
    "test_data = 50\n",
    "x_poly2 = poly_reg.fit_transform([[test_data]])\n",
    "print(x_poly2)\n",
    "#print(poly_reg.predict(x_poly2)) "
   ]
  },
  {
   "cell_type": "code",
   "execution_count": 40,
   "metadata": {},
   "outputs": [
    {
     "name": "stdout",
     "output_type": "stream",
     "text": [
      "[42.963867]\n"
     ]
    }
   ],
   "source": [
    "from sklearn.linear_model import LinearRegression\n",
    "lin_reg = LinearRegression()\n",
    "lin_reg.fit(x_poly, y_train)\n",
    "\n",
    "print(lin_reg.predict(x_poly2)) #50日目の予測長さ"
   ]
  },
  {
   "cell_type": "code",
   "execution_count": null,
   "metadata": {
    "collapsed": true
   },
   "outputs": [],
   "source": []
  },
  {
   "cell_type": "code",
   "execution_count": 41,
   "metadata": {
    "scrolled": true
   },
   "outputs": [
    {
     "data": {
      "image/png": "[encoded data removed]",
      "text/plain": [
       "<matplotlib.figure.Figure at 0x7f08cf751c88>"
      ]
     },
     "metadata": {},
     "output_type": "display_data"
    }
   ],
   "source": [
    "plt.scatter(x, y, color = 'red')\n",
    "plt.plot(x_test, lin_reg.predict(poly_reg.fit_transform(x_test)), color = 'blue')\n",
    "plt.scatter(x_test, lin_reg.predict(poly_reg.fit_transform(x_test)), color = 'blue')\n",
    "plt.title('How long Growth( ASAGAO ) ?')\n",
    "plt.ylabel('Length (cm)')\n",
    "plt.xlabel('Passed Days')\n",
    "plt.show()"
   ]
  },
  {
   "cell_type": "code",
   "execution_count": 42,
   "metadata": {},
   "outputs": [
    {
     "data": {
      "text/plain": [
       "array([[  5],\n",
       "       [ 97],\n",
       "       [106],\n",
       "       [123],\n",
       "       [143],\n",
       "       [150]])"
      ]
     },
     "execution_count": 42,
     "metadata": {},
     "output_type": "execute_result"
    }
   ],
   "source": [
    "x_test"
   ]
  },
  {
   "cell_type": "code",
   "execution_count": null,
   "metadata": {
    "collapsed": true
   },
   "outputs": [],
   "source": []
  },
  {
   "cell_type": "code",
   "execution_count": 43,
   "metadata": {},
   "outputs": [
    {
     "name": "stdout",
     "output_type": "stream",
     "text": [
      "[  5.    5.1   5.2 ... 149.7 149.8 149.9]\n",
      "[[  5. ]\n",
      " [  5.1]\n",
      " [  5.2]\n",
      " ...\n",
      " [149.7]\n",
      " [149.8]\n",
      " [149.9]]\n"
     ]
    }
   ],
   "source": [
    "x_grid = np.arange(min(x_test), max(x_test), 0.1)\n",
    "print(x_grid)\n",
    "x_grid1 = x_grid.reshape((len(x_grid), 1))\n",
    "print(x_grid1)"
   ]
  },
  {
   "cell_type": "code",
   "execution_count": 44,
   "metadata": {},
   "outputs": [
    {
     "data": {
      "image/png": "[encoded data removed]",
      "text/plain": [
       "<matplotlib.figure.Figure at 0x7f08cf6196d8>"
      ]
     },
     "metadata": {},
     "output_type": "display_data"
    }
   ],
   "source": [
    "plt.scatter(x, y, color = 'red')\n",
    "plt.scatter(x_test, lin_reg.predict(poly_reg.fit_transform(x_test)), color = 'blue') # x_train に対する予測結果\n",
    "plt.plot(x_grid1, lin_reg.predict(poly_reg.fit_transform(x_grid1)), color = 'gray') # 増産した x_train に対する予測結果\n",
    "#plt.scatter(x_grid1, lin_reg.predict(poly_reg.fit_transform(x_grid1)), color = 'gray')\n",
    "\n",
    "plt.title('How long Growth( ASAGAO ) ?')\n",
    "plt.ylabel('Length (cm)')\n",
    "plt.xlabel('Passed Days')\n",
    "plt.show()"
   ]
  },
  {
   "cell_type": "code",
   "execution_count": null,
   "metadata": {
    "collapsed": true
   },
   "outputs": [],
   "source": []
  },
  {
   "cell_type": "code",
   "execution_count": 45,
   "metadata": {
    "collapsed": true
   },
   "outputs": [],
   "source": [
    "import pickle\n",
    "\n",
    "y_pred = lin_reg.predict(poly_reg.fit_transform(x_grid1))\n",
    "pickle.dump(lin_reg, open('model3.pkl','wb'))\n"
   ]
  },
  {
   "cell_type": "code",
   "execution_count": 46,
   "metadata": {},
   "outputs": [
    {
     "name": "stdout",
     "output_type": "stream",
     "text": [
      "[42.963867]\n"
     ]
    }
   ],
   "source": [
    "model = pickle.load(open('model3.pkl','rb'))\n",
    "test_data2 = poly_reg.fit_transform([[50]])\n",
    "print(model.predict(test_data2))"
   ]
  },
  {
   "cell_type": "code",
   "execution_count": null,
   "metadata": {
    "collapsed": true
   },
   "outputs": [],
   "source": []
  }
 ],
 "metadata": {
  "kernelspec": {
   "display_name": "Python 3",
   "language": "python",
   "name": "python3"
  },
  "language_info": {
   "codemirror_mode": {
    "name": "ipython",
    "version": 3
   },
   "file_extension": ".py",
   "mimetype": "text/x-python",
   "name": "python",
   "nbconvert_exporter": "python",
   "pygments_lexer": "ipython3",
   "version": "3.6.3"
  }
 },
 "nbformat": 4,
 "nbformat_minor": 2
}
